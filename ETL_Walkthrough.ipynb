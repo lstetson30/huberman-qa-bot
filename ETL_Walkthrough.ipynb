{
 "cells": [
  {
   "cell_type": "markdown",
   "metadata": {},
   "source": [
    "### ETL to get the text data from the playlist\n",
    "\n",
    "This notebook shows the process of building the corpus of transcripts from the YouTube playlist.\n",
    "\n",
    "**Extract**: Pull data (transcripts) from each video.  \n",
    "**Transform**:  \n",
    "**Load**: Load data into our database where it will be retrieved from.  "
   ]
  },
  {
   "cell_type": "code",
   "execution_count": 1,
   "metadata": {},
   "outputs": [],
   "source": [
    "from etl import youtube\n",
    "import json"
   ]
  },
  {
   "cell_type": "markdown",
   "metadata": {},
   "source": [
    "First we load the video information. This includes the video IDs and titles."
   ]
  },
  {
   "cell_type": "code",
   "execution_count": 2,
   "metadata": {},
   "outputs": [],
   "source": [
    "with open('data/example_videos.json') as f:\n",
    "    video_info = json.load(f)"
   ]
  },
  {
   "cell_type": "markdown",
   "metadata": {},
   "source": [
    "Then we must extract the transcripts using the YouTube Transcript API. This is done over all of the videos.  \n",
    "This produces a list of video segments with timestamps.  \n",
    "Next, we format the transcript by adding metadata so that the segments are easily identified for retreival later.  \n",
    "Finally, embeddings of the transcripts are created using the conv-bert-base model from HuggingFace."
   ]
  },
  {
   "cell_type": "code",
   "execution_count": 3,
   "metadata": {},
   "outputs": [],
   "source": [
    "videos = []\n",
    "for video in video_info:\n",
    "    video_id = video[\"id\"]\n",
    "    video_title = video[\"title\"]\n",
    "    transcript = youtube.get_video_transcript(video_id)\n",
    "    if transcript:\n",
    "        formatted_transcript = youtube.format_transcript(transcript, video_id, video_title)\n",
    "        transcript_with_embeddings = youtube.add_embeddings_to_data(formatted_transcript)\n",
    "        videos.extend(transcript_with_embeddings)"
   ]
  },
  {
   "cell_type": "markdown",
   "metadata": {},
   "source": [
    "The last step is to load the data into a database. We will use a SQLite database."
   ]
  },
  {
   "cell_type": "code",
   "execution_count": 4,
   "metadata": {},
   "outputs": [
    {
     "name": "stdout",
     "output_type": "stream",
     "text": [
      "Data loaded to database at data/etl_example.db.\n"
     ]
    }
   ],
   "source": [
    "import sqlite3\n",
    "\n",
    "# Clear the database \n",
    "conn = sqlite3.connect('data/etl_example.db')\n",
    "cursor = conn.cursor()\n",
    "\n",
    "cursor.execute('''\n",
    "    DELETE FROM videos\n",
    "''')\n",
    "\n",
    "conn.commit()\n",
    "conn.close()\n",
    "\n",
    "# Load the data into the database\n",
    "youtube.load_data_to_db('data/etl_example.db', videos)"
   ]
  },
  {
   "cell_type": "markdown",
   "metadata": {},
   "source": [
    "Here is some of the data:"
   ]
  },
  {
   "cell_type": "code",
   "execution_count": 5,
   "metadata": {},
   "outputs": [
    {
     "data": {
      "text/html": [
       "<div>\n",
       "<style scoped>\n",
       "    .dataframe tbody tr th:only-of-type {\n",
       "        vertical-align: middle;\n",
       "    }\n",
       "\n",
       "    .dataframe tbody tr th {\n",
       "        vertical-align: top;\n",
       "    }\n",
       "\n",
       "    .dataframe thead th {\n",
       "        text-align: right;\n",
       "    }\n",
       "</style>\n",
       "<table border=\"1\" class=\"dataframe\">\n",
       "  <thead>\n",
       "    <tr style=\"text-align: right;\">\n",
       "      <th></th>\n",
       "      <th>text</th>\n",
       "      <th>embedding</th>\n",
       "      <th>metadata</th>\n",
       "    </tr>\n",
       "  </thead>\n",
       "  <tbody>\n",
       "    <tr>\n",
       "      <th>0</th>\n",
       "      <td>Hello, and welcome. As you probably know, deep...</td>\n",
       "      <td>b'D5\\x96&gt;\\xb4\\x1f7&gt;\\xae6\\x82=\\xac\\x0b\\x13&lt;\\xd4...</td>\n",
       "      <td>{\"video_id\": \"CS4cs9xVecg\", \"segment_id\": 1, \"...</td>\n",
       "    </tr>\n",
       "    <tr>\n",
       "      <th>1</th>\n",
       "      <td>But deep learning is also enabling brand new p...</td>\n",
       "      <td>b'\\xdf*\\xca&gt;\\xbfJE=\\xa6\\x13\\xf8=\\xb8\\xf4F\\xbb\\...</td>\n",
       "      <td>{\"video_id\": \"CS4cs9xVecg\", \"segment_id\": 2, \"...</td>\n",
       "    </tr>\n",
       "    <tr>\n",
       "      <th>2</th>\n",
       "      <td>Everything ranging from better healthcare wher...</td>\n",
       "      <td>b'\\xf7;_\\xbdW\\xd0\\xac\\xbc\\xfd\\x16\\xfb\\xbd\\x8f\\...</td>\n",
       "      <td>{\"video_id\": \"CS4cs9xVecg\", \"segment_id\": 3, \"...</td>\n",
       "    </tr>\n",
       "    <tr>\n",
       "      <th>3</th>\n",
       "      <td>delivering personalized education, to precisio...</td>\n",
       "      <td>b'\\x900\\xe5=\\xbd\\x9e\\xf3=@\\xd5\\xe3\\xbd\\xca\\x88...</td>\n",
       "      <td>{\"video_id\": \"CS4cs9xVecg\", \"segment_id\": 4, \"...</td>\n",
       "    </tr>\n",
       "    <tr>\n",
       "      <th>4</th>\n",
       "      <td>to even self-driving cars and many others.</td>\n",
       "      <td>b'x%\\x81&gt;l\\xfe;=\\xf0\\xdd\\x9d&lt;{\\x96\\xaf\\xbb\\xd0...</td>\n",
       "      <td>{\"video_id\": \"CS4cs9xVecg\", \"segment_id\": 5, \"...</td>\n",
       "    </tr>\n",
       "  </tbody>\n",
       "</table>\n",
       "</div>"
      ],
      "text/plain": [
       "                                                text  \\\n",
       "0  Hello, and welcome. As you probably know, deep...   \n",
       "1  But deep learning is also enabling brand new p...   \n",
       "2  Everything ranging from better healthcare wher...   \n",
       "3  delivering personalized education, to precisio...   \n",
       "4         to even self-driving cars and many others.   \n",
       "\n",
       "                                           embedding  \\\n",
       "0  b'D5\\x96>\\xb4\\x1f7>\\xae6\\x82=\\xac\\x0b\\x13<\\xd4...   \n",
       "1  b'\\xdf*\\xca>\\xbfJE=\\xa6\\x13\\xf8=\\xb8\\xf4F\\xbb\\...   \n",
       "2  b'\\xf7;_\\xbdW\\xd0\\xac\\xbc\\xfd\\x16\\xfb\\xbd\\x8f\\...   \n",
       "3  b'\\x900\\xe5=\\xbd\\x9e\\xf3=@\\xd5\\xe3\\xbd\\xca\\x88...   \n",
       "4  b'x%\\x81>l\\xfe;=\\xf0\\xdd\\x9d<{\\x96\\xaf\\xbb\\xd0...   \n",
       "\n",
       "                                            metadata  \n",
       "0  {\"video_id\": \"CS4cs9xVecg\", \"segment_id\": 1, \"...  \n",
       "1  {\"video_id\": \"CS4cs9xVecg\", \"segment_id\": 2, \"...  \n",
       "2  {\"video_id\": \"CS4cs9xVecg\", \"segment_id\": 3, \"...  \n",
       "3  {\"video_id\": \"CS4cs9xVecg\", \"segment_id\": 4, \"...  \n",
       "4  {\"video_id\": \"CS4cs9xVecg\", \"segment_id\": 5, \"...  "
      ]
     },
     "execution_count": 5,
     "metadata": {},
     "output_type": "execute_result"
    }
   ],
   "source": [
    "import sqlite3\n",
    "import pandas as pd\n",
    "\n",
    "conn = sqlite3.connect('data/etl_example.db')\n",
    "cursor = conn.cursor()\n",
    "\n",
    "cursor.execute('''\n",
    "    SELECT text, embedding, metadata\n",
    "    FROM videos\n",
    "''')\n",
    "\n",
    "transcript_data = cursor.fetchall()\n",
    "\n",
    "cursor.close()\n",
    "\n",
    "transcript_df = pd.DataFrame(transcript_data, columns=['text', 'embedding', 'metadata'])\n",
    "\n",
    "transcript_df.head()"
   ]
  }
 ],
 "metadata": {
  "kernelspec": {
   "display_name": "Python 3",
   "language": "python",
   "name": "python3"
  },
  "language_info": {
   "codemirror_mode": {
    "name": "ipython",
    "version": 3
   },
   "file_extension": ".py",
   "mimetype": "text/x-python",
   "name": "python",
   "nbconvert_exporter": "python",
   "pygments_lexer": "ipython3",
   "version": "3.11.1"
  }
 },
 "nbformat": 4,
 "nbformat_minor": 2
}
